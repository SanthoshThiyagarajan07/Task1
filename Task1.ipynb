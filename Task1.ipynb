{
  "nbformat": 4,
  "nbformat_minor": 0,
  "metadata": {
    "colab": {
      "provenance": []
    },
    "kernelspec": {
      "name": "python3",
      "display_name": "Python 3"
    },
    "language_info": {
      "name": "python"
    }
  },
  "cells": [
    {
      "cell_type": "code",
      "execution_count": 1,
      "metadata": {
        "colab": {
          "base_uri": "https://localhost:8080/"
        },
        "id": "uqXOjLD15mz0",
        "outputId": "49a8d5b7-4dd9-4bc3-bb6c-0d38323194d4"
      },
      "outputs": [
        {
          "output_type": "stream",
          "name": "stdout",
          "text": [
            "Missing values before cleaning:\n",
            "CustomerID                0\n",
            "Gender                    0\n",
            "Age                       0\n",
            "Annual Income (k$)        0\n",
            "Spending Score (1-100)    0\n",
            "dtype: int64\n",
            "\n",
            "Cleaned dataset preview:\n",
            "   customerid  gender  age  annual_income_(k$)  spending_score_(1-100)\n",
            "0           1    Male   19                  15                      39\n",
            "1           2    Male   21                  15                      81\n",
            "2           3  Female   20                  16                       6\n",
            "3           4  Female   23                  16                      77\n",
            "4           5  Female   31                  17                      40\n"
          ]
        }
      ],
      "source": [
        "import pandas as pd\n",
        "\n",
        "# Load the dataset\n",
        "df = pd.read_csv(\"/content/Mall_Customers.csv\")\n",
        "\n",
        "# 1. Identify and handle missing values\n",
        "print(\"Missing values before cleaning:\")\n",
        "print(df.isnull().sum())\n",
        "\n",
        "# 2. Remove duplicate rows\n",
        "df = df.drop_duplicates()\n",
        "\n",
        "# 3. Standardize text values (e.g., gender)\n",
        "df['Gender'] = df['Gender'].str.strip().str.capitalize()\n",
        "\n",
        "# 4. Convert date formats – not applicable (no date column)\n",
        "\n",
        "# 5. Rename column headers to be clean and uniform\n",
        "df.columns = df.columns.str.strip().str.lower().str.replace(' ', '_')\n",
        "\n",
        "# 6. Check and fix data types\n",
        "df['age'] = df['age'].astype(int)\n",
        "df['annual_income_(k$)'] = df['annual_income_(k$)'].astype(int)\n",
        "df['spending_score_(1-100)'] = df['spending_score_(1-100)'].astype(int)\n",
        "\n",
        "# Show cleaned dataset preview\n",
        "print(\"\\nCleaned dataset preview:\")\n",
        "print(df.head())\n",
        "\n",
        "# Save the cleaned dataset (optional)\n",
        "df.to_csv(\"Mall_Customers_Cleaned.csv\", index=False)\n"
      ]
    }
  ]
}
